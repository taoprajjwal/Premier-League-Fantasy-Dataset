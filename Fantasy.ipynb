{
  "nbformat": 4,
  "nbformat_minor": 0,
  "metadata": {
    "colab": {
      "name": "Fantasy.ipynb",
      "version": "0.3.2",
      "provenance": [],
      "collapsed_sections": []
    },
    "kernelspec": {
      "name": "python3",
      "display_name": "Python 3"
    }
  },
  "cells": [
    {
      "metadata": {
        "id": "MSWK4oqYq1CB",
        "colab_type": "code",
        "colab": {}
      },
      "cell_type": "code",
      "source": [
        "!pip install fpl"
      ],
      "execution_count": 0,
      "outputs": []
    },
    {
      "metadata": {
        "id": "4PLOWJXwniTs",
        "colab_type": "code",
        "colab": {}
      },
      "cell_type": "code",
      "source": [
        "import fpl\n",
        "FPL=fpl.FPL()\n",
        "players=FPL.get_players()"
      ],
      "execution_count": 0,
      "outputs": []
    },
    {
      "metadata": {
        "id": "sBaZB7xin6ay",
        "colab_type": "code",
        "colab": {}
      },
      "cell_type": "code",
      "source": [
        "def team_name(team_id):\n",
        "  team_map = {\n",
        "        1: \"Arsenal\", \n",
        "        2: \"Bournemouth\", \n",
        "        3: \"Brighton\", \n",
        "        4: \"Burnley\", \n",
        "        5: \"Cardiff\", \n",
        "        6: \"Chelsea\", \n",
        "        7: \"Crystal Palace\", \n",
        "        8: \"Everton\", \n",
        "        9: \"Fulham\", \n",
        "        10: \"Huddersfield\", \n",
        "        11: \"Leicester\", \n",
        "        12: \"Liverpool\", \n",
        "        13: \"Man City\", \n",
        "        14: \"Man Utd\", \n",
        "        15: \"Newcastle\", \n",
        "        16: \"Southampton\", \n",
        "        17: \"Spurs\", \n",
        "        18: \"Watford\", \n",
        "        19: \"West Ham\", \n",
        "        20: \"Wolves\"} \n",
        "  return team_map[team_id]"
      ],
      "execution_count": 0,
      "outputs": []
    },
    {
      "metadata": {
        "id": "IWyGjB8zq0v8",
        "colab_type": "code",
        "colab": {}
      },
      "cell_type": "code",
      "source": [
        "def upcoming_fixtures(Player):\n",
        "  opponent_name=[]\n",
        "  opponent_difficulty=[]\n",
        "  for item in Player.fixtures[:5]:\n",
        "    opponent_name.append(item['opponent_short_name']+\",\"+str(item[\"difficulty\"]))\n",
        "    opponent_difficulty.append(item['difficulty'])\n",
        "    \n",
        "  return (opponent_name,opponent_difficulty)"
      ],
      "execution_count": 0,
      "outputs": []
    },
    {
      "metadata": {
        "id": "Vu_E4qE9pLjx",
        "colab_type": "code",
        "colab": {}
      },
      "cell_type": "code",
      "source": [
        "import csv\n",
        "\n",
        "stats_header_row=[\"ID\",\"First Name\", \"Second Name\", \"Team\", \"Position\",\"Total Points\",\"PPG\",\"Goals\",\"Assists\",\"bps\",\"Clean Sheets\",\"Minutes\",\"Games Played\",\"Selected by\"]\n",
        "gameweek_header_row= [\"ID\",\"First Name\",\"Second Name\",\"Team\",\"Gameweek Pts\",\"Gameweek price change\",\"Gameweek net transfer\",\"Fixture1\",\"Fixture2\",\"Fixture3\",\"Fixture4\",\"Fixture5\",\"Total Difficulty\",\"Average Difficulty\"]\n",
        "\n",
        "with open('Stats.csv','w',newline='',encoding='utf-8') as f:\n",
        "  writer=csv.writer(f)\n",
        "  writer.writerow(stats_header_row)\n",
        "  \n",
        "with open('Gameweek.csv','w',newline='',encoding='utf-8') as f2:\n",
        "  writer=csv.writer(f2)\n",
        "  writer.writerow(gameweek_header_row)\n",
        "  \n"
      ],
      "execution_count": 0,
      "outputs": []
    },
    {
      "metadata": {
        "id": "LwDoUINLn_os",
        "colab_type": "code",
        "colab": {}
      },
      "cell_type": "code",
      "source": [
        "def PlayerStats(Player):\n",
        "  stats=[Player._id,Player.first_name,Player.second_name,team_name(Player.team_id),Player.position,Player.points,Player.ppg,Player.goals,Player.assists,Player.bps,Player.clean_sheets,Player.minutes,Player._games_played(),Player.selected_by,Player.status]\n",
        "  with open('Stats.csv','a',newline='',encoding='utf-8') as f:\n",
        "    writer=csv.writer(f)\n",
        "    writer.writerow(stats)"
      ],
      "execution_count": 0,
      "outputs": []
    },
    {
      "metadata": {
        "id": "DnMY5UC-oIGf",
        "colab_type": "code",
        "colab": {}
      },
      "cell_type": "code",
      "source": [
        "def GameweekStats(Player):\n",
        "  fixture_name, fixture_difficulty=upcoming_fixtures(Player)\n",
        "  \n",
        "  fixtures=fixture_name+[sum(fixture_difficulty),sum(fixture_difficulty)/len(fixture_difficulty)]\n",
        " \n",
        "  gameweek=[Player._id,Player.first_name,Player.second_name,team_name(Player.team_id),Player.gameweek_points,Player.gameweek_price_change,Player.gameweek_transfers_in-Player.gameweek_transfers_out]+fixtures\n",
        "  \n",
        "  with open('Gameweek.csv','a',newline='',encoding='utf-8') as f2:\n",
        "    writer=csv.writer(f2)\n",
        "    writer.writerow(gameweek)"
      ],
      "execution_count": 0,
      "outputs": []
    },
    {
      "metadata": {
        "id": "R7YwkD3kyDjA",
        "colab_type": "code",
        "colab": {}
      },
      "cell_type": "code",
      "source": [
        "for player in players:\n",
        "  PlayerStats(player)\n",
        "  GameweekStats(player)"
      ],
      "execution_count": 0,
      "outputs": []
    },
    {
      "metadata": {
        "id": "z1voUKwGyxgh",
        "colab_type": "code",
        "colab": {
          "base_uri": "https://localhost:8080/",
          "height": 35
        },
        "outputId": "947aec75-3394-435d-961a-f38155e3cf77"
      },
      "cell_type": "code",
      "source": [
        "!ls"
      ],
      "execution_count": 51,
      "outputs": [
        {
          "output_type": "stream",
          "text": [
            "datalab  Gameweek.csv  Stats.csv\r\n"
          ],
          "name": "stdout"
        }
      ]
    },
    {
      "metadata": {
        "id": "mD9ujB_kyyng",
        "colab_type": "code",
        "colab": {}
      },
      "cell_type": "code",
      "source": [
        "from google.colab import files\n",
        "files.download('Stats.csv') \n",
        "files.download('Gameweek.csv')"
      ],
      "execution_count": 0,
      "outputs": []
    },
    {
      "metadata": {
        "id": "oo0o2j5Ezk26",
        "colab_type": "code",
        "colab": {}
      },
      "cell_type": "code",
      "source": [
        "!rm Gameweek.csv Stats.csv"
      ],
      "execution_count": 0,
      "outputs": []
    },
    {
      "metadata": {
        "id": "B-rGYv7byEKl",
        "colab_type": "text"
      },
      "cell_type": "markdown",
      "source": [
        "## TESTS\n",
        "\n",
        "\n",
        "---\n",
        "\n"
      ]
    },
    {
      "metadata": {
        "id": "1PMyceXmrOlK",
        "colab_type": "code",
        "colab": {}
      },
      "cell_type": "code",
      "source": [
        "GameweekStats(players[200])"
      ],
      "execution_count": 0,
      "outputs": []
    },
    {
      "metadata": {
        "id": "Uojq-QFlxbD9",
        "colab_type": "code",
        "colab": {
          "base_uri": "https://localhost:8080/",
          "height": 54
        },
        "outputId": "60f3bf76-cfee-447d-b566-22e25812c1b2"
      },
      "cell_type": "code",
      "source": [
        "print(PlayerStats(players[150]))"
      ],
      "execution_count": 40,
      "outputs": [
        {
          "output_type": "stream",
          "text": [
            "[496, 'Tammy', 'Abraham', 'Chelsea', 'Forward', 0, '0.0', 0, 0, 0, 0, 0, 0, 0.2, 'a']\n",
            "[496, 'Tammy', 'Abraham', 'Chelsea', 'Forward', 0, '0.0', 0, 0, 0, 0, 0, 0, 0.2, 'a']\n"
          ],
          "name": "stdout"
        }
      ]
    }
  ]
}