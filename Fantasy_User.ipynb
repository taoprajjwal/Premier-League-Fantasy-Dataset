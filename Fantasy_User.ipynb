{
  "nbformat": 4,
  "nbformat_minor": 0,
  "metadata": {
    "colab": {
      "name": "Fantasy_User.ipynb",
      "version": "0.3.2",
      "provenance": [],
      "collapsed_sections": []
    },
    "kernelspec": {
      "name": "python3",
      "display_name": "Python 3"
    }
  },
  "cells": [
    {
      "metadata": {
        "id": "CQhrOXcuXida",
        "colab_type": "code",
        "colab": {}
      },
      "cell_type": "code",
      "source": [
        "!pip install https://github.com/taoprajjwal/fpl/zipball/master"
      ],
      "execution_count": 0,
      "outputs": []
    },
    {
      "metadata": {
        "id": "BhKjpaRCXl1N",
        "colab_type": "code",
        "colab": {}
      },
      "cell_type": "code",
      "source": [
        "import fpl"
      ],
      "execution_count": 0,
      "outputs": []
    },
    {
      "metadata": {
        "id": "p_nVESJYdmtp",
        "colab_type": "code",
        "colab": {}
      },
      "cell_type": "code",
      "source": [
        "ffpl=fpl.FPL()"
      ],
      "execution_count": 0,
      "outputs": []
    },
    {
      "metadata": {
        "id": "OlQDVwfWXqaT",
        "colab_type": "code",
        "colab": {}
      },
      "cell_type": "code",
      "source": [
        "league=fpl.classic_league.ClassicLeague(313,10)"
      ],
      "execution_count": 0,
      "outputs": []
    },
    {
      "metadata": {
        "id": "HbeGdiilg8AR",
        "colab_type": "code",
        "colab": {}
      },
      "cell_type": "code",
      "source": [
        "def get_player(team):\n",
        "  players=[]\n",
        "  vc=0\n",
        "  c=0\n",
        "  for player in team:\n",
        "    \n",
        "    players.append(player['element'])\n",
        "    \n",
        "    if player['is_captain']:\n",
        "      c=player['element']\n",
        "    \n",
        "    if player['is_vice_captain']:\n",
        "      vc=player['element']\n",
        "  \n",
        "  players.extend([c,vc])\n",
        "  return players"
      ],
      "execution_count": 0,
      "outputs": []
    },
    {
      "metadata": {
        "id": "7W5DIQfEHl2D",
        "colab_type": "code",
        "colab": {}
      },
      "cell_type": "code",
      "source": [
        "import csv\n",
        "\n",
        "header_row=[\"Entry\",\"Name\",\"Total points\",\"Gameweek Points\",\"Gameweek Hits\",\"Rank\",\"Last Rank\",\"Player\",\"Player\",\"Player\",\"Player\",\"Player\",\"Player\",\"Player\",\"Player\",\"Player\",\"Player\",\"Player\",\"Player\",\"Player\",\"Player\",\"Player\",\"Captain\",\"V Captain\",\"Bank amount\",\"Team Value\",\"Gameweek Transfers\"]\n",
        "with open(\"Users.csv\",\"w\",newline=\"\",encoding='utf-8') as f:\n",
        "  writer=csv.writer(f)\n",
        "  writer.writerow(header_row)"
      ],
      "execution_count": 0,
      "outputs": []
    },
    {
      "metadata": {
        "id": "Onc6_KMqZkv9",
        "colab_type": "code",
        "colab": {}
      },
      "cell_type": "code",
      "source": [
        "count=0\n",
        "for user in league.standings:\n",
        "  row=[]\n",
        "  details=ffpl.get_user(user['entry'])\n",
        "  row.extend([user['entry'],user['entry_name'],user['total'],user['event_total'],details.gameweek_hit,user['rank'],user['last_rank']])\n",
        "  playerrow=get_player(details.team(2))\n",
        "  row.extend(playerrow)\n",
        "  row.extend([details.bank,details.team_value,details.gameweek_transfers])\n",
        "  count+=1\n",
        "  print(count)\n",
        "  with open(\"Users.csv\",\"a\",newline=\"\",encoding='utf-8') as f:\n",
        "    writer=csv.writer(f)\n",
        "    writer.writerow(row)\n",
        "  "
      ],
      "execution_count": 0,
      "outputs": []
    },
    {
      "metadata": {
        "id": "f9GnQADfnNPc",
        "colab_type": "code",
        "colab": {}
      },
      "cell_type": "code",
      "source": [
        "from google.colab import files\n",
        "\n",
        "files.download(\"User.csv\")"
      ],
      "execution_count": 0,
      "outputs": []
    }
  ]
}